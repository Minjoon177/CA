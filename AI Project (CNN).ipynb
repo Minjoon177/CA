{
 "cells": [
  {
   "cell_type": "code",
   "execution_count": 1,
   "metadata": {},
   "outputs": [],
   "source": [
    "import numpy as np\n",
    "import pandas as pd\n",
    "import tensorflow as tf \n",
    "from tensorflow.keras.preprocessing.image import ImageDataGenerator\n",
    "from tensorflow.keras.models import Sequential\n",
    "import matplotlib.pyplot as plt\n",
    "import seaborn as sns\n",
    "from tensorflow.keras.preprocessing.image import ImageDataGenerator , load_img ,img_to_array\n",
    "from tensorflow.keras.models import Sequential\n",
    "from tensorflow.keras.layers import Activation, Dropout, Flatten, Dense, Conv2D, MaxPooling2D\n",
    "from tensorflow.keras.callbacks import EarlyStopping\n",
    "from sklearn.metrics import classification_report,confusion_matrix\n",
    "from tensorflow.keras.preprocessing import image "
   ]
  },
  {
   "cell_type": "code",
   "execution_count": 3,
   "metadata": {},
   "outputs": [],
   "source": [
    "import cv2\n"
   ]
  },
  {
   "cell_type": "code",
   "execution_count": 11,
   "metadata": {},
   "outputs": [],
   "source": [
    "img = cv2.imread(r\"C:\\Users\\jyyjc\\Desktop\\archive (1)\\casting_data\\casting_data\\test\\def_front\\cast_def_0_87.jpeg\",0)\n",
    "img = img/255\n",
    "pred_img = img.copy()"
   ]
  },
  {
   "cell_type": "code",
   "execution_count": null,
   "metadata": {},
   "outputs": [],
   "source": []
  },
  {
   "cell_type": "code",
   "execution_count": 8,
   "metadata": {},
   "outputs": [],
   "source": [
    "\n",
    "\n",
    "train_path = r\"C:\\Users\\jyyjc\\Desktop\\archive (1)\\casting_data\\casting_data\\train\"\n",
    "\n",
    "test_path =  r\"C:\\Users\\jyyjc\\Desktop\\archive (1)\\casting_data\\casting_data\\test\""
   ]
  },
  {
   "cell_type": "code",
   "execution_count": 9,
   "metadata": {},
   "outputs": [],
   "source": [
    "image_gen = ImageDataGenerator(rescale = 1/255,\n",
    "                                 zoom_range = 0.1,\n",
    "                                 brightness_range = [0.9,1.0],\n",
    "                                 )"
   ]
  },
  {
   "cell_type": "code",
   "execution_count": 17,
   "metadata": {},
   "outputs": [
    {
     "name": "stdout",
     "output_type": "stream",
     "text": [
      "Found 6633 images belonging to 2 classes.\n",
      "Found 715 images belonging to 2 classes.\n"
     ]
    }
   ],
   "source": [
    "image_shape = (300, 300, 1)\n",
    "batch_size = 32\n",
    "\n",
    "train_data= image_gen.flow_from_directory(train_path,\n",
    "                                            target_size= image_shape[:2],\n",
    "                                            color_mode= \"grayscale\",\n",
    "                                            classes = {'def_front':0, 'ok_front': 1},\n",
    "                                            batch_size= batch_size,\n",
    "                                            class_mode = 'binary',\n",
    "                                            shuffle= True,\n",
    "                                            seed= 0)\n",
    "test_data = image_gen.flow_from_directory(test_path, \n",
    "                                          target_size= image_shape[:2],\n",
    "                                          color_mode= 'grayscale',\n",
    "                                          classes= {'def_front':0, \n",
    "                                                   'ok_front':0},\n",
    "                                          batch_size = batch_size,\n",
    "                                          class_mode = 'binary',\n",
    "                                          shuffle = False,\n",
    "                                          seed = 0)\n"
   ]
  },
  {
   "cell_type": "code",
   "execution_count": 18,
   "metadata": {},
   "outputs": [
    {
     "data": {
      "text/plain": [
       "{'def_front': 0, 'ok_front': 1}"
      ]
     },
     "execution_count": 18,
     "metadata": {},
     "output_type": "execute_result"
    }
   ],
   "source": [
    "train_set.class_indices"
   ]
  },
  {
   "cell_type": "code",
   "execution_count": 32,
   "metadata": {},
   "outputs": [],
   "source": [
    "model = tf.keras.models.Sequential()\n",
    "\n",
    "model.add(tf.keras.layers.Conv2D(filters=16,kernel_size=(7,7), input_shape = image_shape,  activation='relu', padding='same'))\n",
    "model.add(tf.keras.layers.MaxPooling2D(pool_size=(2,2),strides=2))\n",
    "\n",
    "model.add(tf.keras.layers.Conv2D(filters=32,kernel_size=(3,3), input_shape = image_shape, activation='relu',padding='same'))\n",
    "model.add(tf.keras.layers.MaxPooling2D(pool_size=(2,2),strides=2))\n",
    "\n",
    "model.add(tf.keras.layers.Conv2D(filters=64,kernel_size=(3,3),input_shape = image_shape, activation='relu', padding = 'same'))\n",
    "model.add(tf.keras.layers.Flatten())  \n",
    "\n",
    "model.add(tf.keras.layers.Dense(units= 224, activation='relu'))\n",
    "model.add(Dropout(rate=0.2))\n",
    "model.add(tf.keras.layers.Dense(units=1,activation='sigmoid')) "
   ]
  },
  {
   "cell_type": "code",
   "execution_count": 33,
   "metadata": {},
   "outputs": [],
   "source": [
    "model.compile(optimizer='adam',loss='binary_crossentropy',metrics=['accuracy'])"
   ]
  },
  {
   "cell_type": "code",
   "execution_count": 34,
   "metadata": {
    "collapsed": true
   },
   "outputs": [
    {
     "name": "stderr",
     "output_type": "stream",
     "text": [
      "C:\\Users\\jyyjc\\anaconda3\\lib\\site-packages\\tensorflow\\python\\keras\\engine\\training.py:1950: UserWarning: `Model.fit_generator` is deprecated and will be removed in a future version. Please use `Model.fit`, which supports generators.\n",
      "  warnings.warn('`Model.fit_generator` is deprecated and '\n"
     ]
    },
    {
     "name": "stdout",
     "output_type": "stream",
     "text": [
      "Epoch 1/10\n",
      "208/208 [==============================] - 184s 884ms/step - loss: 0.5810 - accuracy: 0.7446 - val_loss: 0.2998 - val_accuracy: 0.8601\n",
      "Epoch 2/10\n",
      "208/208 [==============================] - 183s 881ms/step - loss: 0.2917 - accuracy: 0.8762 - val_loss: 0.3204 - val_accuracy: 0.8727\n",
      "Epoch 3/10\n",
      "208/208 [==============================] - 183s 878ms/step - loss: 0.2340 - accuracy: 0.9000 - val_loss: 0.1679 - val_accuracy: 0.9273\n",
      "Epoch 4/10\n",
      "208/208 [==============================] - 183s 877ms/step - loss: 0.1493 - accuracy: 0.9415 - val_loss: 0.1019 - val_accuracy: 0.9524\n",
      "Epoch 5/10\n",
      "208/208 [==============================] - 184s 882ms/step - loss: 0.1176 - accuracy: 0.9555 - val_loss: 0.1193 - val_accuracy: 0.9469\n",
      "Epoch 6/10\n",
      "208/208 [==============================] - 185s 887ms/step - loss: 0.1198 - accuracy: 0.9528 - val_loss: 0.0657 - val_accuracy: 0.9776\n",
      "Epoch 7/10\n",
      "208/208 [==============================] - 183s 879ms/step - loss: 0.0749 - accuracy: 0.9738 - val_loss: 0.0585 - val_accuracy: 0.9762\n",
      "Epoch 8/10\n",
      "208/208 [==============================] - 183s 879ms/step - loss: 0.0642 - accuracy: 0.9762 - val_loss: 0.0519 - val_accuracy: 0.9776\n",
      "Epoch 9/10\n",
      "208/208 [==============================] - 184s 883ms/step - loss: 0.0523 - accuracy: 0.9810 - val_loss: 0.1410 - val_accuracy: 0.9594\n",
      "Epoch 10/10\n",
      "208/208 [==============================] - 183s 879ms/step - loss: 0.0525 - accuracy: 0.9836 - val_loss: 0.0668 - val_accuracy: 0.9706\n"
     ]
    },
    {
     "data": {
      "text/plain": [
       "<tensorflow.python.keras.callbacks.History at 0x2dd98ee0190>"
      ]
     },
     "execution_count": 34,
     "metadata": {},
     "output_type": "execute_result"
    }
   ],
   "source": [
    "model.fit_generator(train_data, validation_data=test_data,epochs=10)"
   ]
  },
  {
   "cell_type": "code",
   "execution_count": 37,
   "metadata": {},
   "outputs": [],
   "source": [
    "losses = pd.DataFrame(model.history.history)"
   ]
  },
  {
   "cell_type": "code",
   "execution_count": 38,
   "metadata": {},
   "outputs": [
    {
     "data": {
      "text/plain": [
       "<AxesSubplot:>"
      ]
     },
     "execution_count": 38,
     "metadata": {},
     "output_type": "execute_result"
    },
    {
     "data": {
      "image/png": "[encoded data removed]",
      "text/plain": [
       "<Figure size 432x288 with 1 Axes>"
      ]
     },
     "metadata": {
      "needs_background": "light"
     },
     "output_type": "display_data"
    }
   ],
   "source": [
    "losses[['loss', 'val_loss']].plot()"
   ]
  },
  {
   "cell_type": "code",
   "execution_count": 39,
   "metadata": {
    "scrolled": true
   },
   "outputs": [
    {
     "data": {
      "text/plain": [
       "<AxesSubplot:>"
      ]
     },
     "execution_count": 39,
     "metadata": {},
     "output_type": "execute_result"
    },
    {
     "data": {
      "image/png": "[encoded data removed]",
      "text/plain": [
       "<Figure size 432x288 with 1 Axes>"
      ]
     },
     "metadata": {
      "needs_background": "light"
     },
     "output_type": "display_data"
    }
   ],
   "source": [
    "losses[['accuracy', 'val_accuracy']].plot()"
   ]
  },
  {
   "cell_type": "code",
   "execution_count": 40,
   "metadata": {},
   "outputs": [
    {
     "name": "stderr",
     "output_type": "stream",
     "text": [
      "C:\\Users\\jyyjc\\anaconda3\\lib\\site-packages\\tensorflow\\python\\keras\\engine\\training.py:2011: UserWarning: `Model.predict_generator` is deprecated and will be removed in a future version. Please use `Model.predict`, which supports generators.\n",
      "  warnings.warn('`Model.predict_generator` is deprecated and '\n"
     ]
    }
   ],
   "source": [
    "pred_prob = model.predict_generator(test_set)"
   ]
  },
  {
   "cell_type": "code",
   "execution_count": 41,
   "metadata": {
    "collapsed": true
   },
   "outputs": [
    {
     "data": {
      "text/plain": [
       "array([0, 0, 0, 0, 0, 0, 0, 0, 0, 0, 0, 0, 0, 0, 0, 0, 0, 0, 0, 0, 0, 0,\n",
       "       0, 0, 0, 0, 0, 0, 0, 0, 0, 0, 0, 0, 0, 0, 0, 0, 0, 0, 0, 0, 0, 0,\n",
       "       0, 0, 0, 0, 0, 0, 0, 0, 0, 0, 0, 0, 0, 0, 0, 0, 0, 0, 0, 0, 0, 0,\n",
       "       0, 0, 0, 0, 0, 0, 0, 0, 0, 0, 0, 0, 0, 0, 0, 0, 0, 0, 0, 0, 0, 0,\n",
       "       0, 0, 0, 0, 0, 0, 0, 0, 0, 0, 0, 0, 0, 0, 0, 0, 0, 0, 0, 0, 0, 0,\n",
       "       0, 0, 0, 0, 0, 0, 0, 0, 0, 0, 0, 0, 0, 0, 0, 0, 0, 0, 0, 0, 0, 0,\n",
       "       0, 0, 0, 0, 0, 0, 0, 0, 0, 0, 0, 0, 0, 0, 0, 0, 0, 0, 0, 0, 0, 0,\n",
       "       0, 0, 0, 0, 0, 0, 0, 0, 0, 0, 0, 0, 0, 0, 0, 0, 0, 0, 0, 0, 0, 0,\n",
       "       0, 0, 0, 0, 0, 0, 0, 0, 0, 0, 0, 0, 0, 0, 0, 0, 0, 0, 0, 0, 0, 0,\n",
       "       0, 0, 0, 0, 0, 0, 0, 0, 0, 0, 0, 0, 0, 0, 0, 0, 0, 0, 0, 0, 0, 0,\n",
       "       0, 0, 0, 0, 0, 0, 0, 0, 0, 0, 0, 0, 0, 0, 0, 0, 0, 0, 0, 0, 0, 0,\n",
       "       0, 0, 0, 0, 0, 0, 0, 0, 0, 0, 0, 0, 0, 0, 0, 0, 0, 0, 0, 0, 0, 0,\n",
       "       0, 0, 0, 0, 0, 0, 0, 0, 0, 0, 0, 0, 0, 0, 0, 0, 0, 0, 0, 0, 0, 0,\n",
       "       0, 0, 0, 0, 0, 0, 0, 0, 0, 0, 0, 0, 0, 0, 0, 0, 0, 0, 0, 0, 0, 0,\n",
       "       0, 0, 0, 0, 0, 0, 0, 0, 0, 0, 0, 0, 0, 0, 0, 0, 0, 0, 0, 0, 0, 0,\n",
       "       0, 0, 0, 0, 0, 0, 0, 0, 0, 0, 0, 0, 0, 0, 0, 0, 0, 0, 0, 0, 0, 0,\n",
       "       0, 0, 0, 0, 0, 0, 0, 0, 0, 0, 0, 0, 0, 0, 0, 0, 0, 0, 0, 0, 0, 0,\n",
       "       0, 0, 0, 0, 0, 0, 0, 0, 0, 0, 0, 0, 0, 0, 0, 0, 0, 0, 0, 0, 0, 0,\n",
       "       0, 0, 0, 0, 0, 0, 0, 0, 0, 0, 0, 0, 0, 0, 0, 0, 0, 0, 0, 0, 0, 0,\n",
       "       0, 0, 0, 0, 0, 0, 0, 0, 0, 0, 0, 0, 0, 0, 0, 0, 0, 0, 0, 0, 0, 0,\n",
       "       0, 0, 0, 0, 0, 0, 0, 0, 0, 0, 0, 0, 0, 1, 1, 1, 1, 1, 1, 1, 1, 1,\n",
       "       1, 1, 1, 1, 1, 1, 1, 1, 1, 1, 1, 1, 1, 1, 1, 1, 1, 1, 1, 1, 1, 1,\n",
       "       1, 1, 1, 1, 1, 1, 1, 1, 1, 1, 1, 1, 1, 1, 1, 1, 1, 1, 1, 1, 1, 1,\n",
       "       1, 1, 1, 1, 1, 1, 1, 1, 1, 1, 1, 1, 1, 1, 1, 1, 1, 1, 1, 1, 1, 1,\n",
       "       1, 1, 1, 1, 1, 1, 1, 1, 1, 1, 1, 1, 1, 1, 1, 1, 1, 1, 1, 1, 1, 1,\n",
       "       1, 1, 1, 1, 1, 1, 1, 1, 1, 1, 1, 1, 1, 1, 1, 1, 1, 1, 1, 1, 1, 1,\n",
       "       1, 1, 1, 1, 1, 1, 1, 1, 1, 1, 1, 1, 1, 1, 1, 1, 1, 1, 1, 1, 1, 1,\n",
       "       1, 1, 1, 1, 1, 1, 1, 1, 1, 1, 1, 1, 1, 1, 1, 1, 1, 1, 1, 1, 1, 1,\n",
       "       1, 1, 1, 1, 1, 1, 1, 1, 1, 1, 1, 1, 1, 1, 1, 1, 1, 1, 1, 1, 1, 1,\n",
       "       1, 1, 1, 1, 1, 1, 1, 1, 1, 1, 1, 1, 1, 1, 1, 1, 1, 1, 1, 1, 1, 1,\n",
       "       1, 1, 1, 1, 1, 1, 1, 1, 1, 1, 1, 1, 1, 1, 1, 1, 1, 1, 1, 1, 1, 1,\n",
       "       1, 1, 1, 1, 1, 1, 1, 1, 1, 1, 1, 1, 1, 1, 1, 1, 1, 1, 1, 1, 1, 1,\n",
       "       1, 1, 1, 1, 1, 1, 1, 1, 1, 1, 1])"
      ]
     },
     "execution_count": 41,
     "metadata": {},
     "output_type": "execute_result"
    }
   ],
   "source": [
    "test_set.classes"
   ]
  },
  {
   "cell_type": "code",
   "execution_count": 42,
   "metadata": {},
   "outputs": [],
   "source": [
    "predictions = pred_prob > 0.5"
   ]
  },
  {
   "cell_type": "code",
   "execution_count": 43,
   "metadata": {},
   "outputs": [
    {
     "name": "stdout",
     "output_type": "stream",
     "text": [
      "              precision    recall  f1-score   support\n",
      "\n",
      "           0       1.00      0.96      0.98       453\n",
      "           1       0.94      1.00      0.96       262\n",
      "\n",
      "    accuracy                           0.97       715\n",
      "   macro avg       0.97      0.98      0.97       715\n",
      "weighted avg       0.97      0.97      0.97       715\n",
      "\n"
     ]
    }
   ],
   "source": [
    "print(classification_report(test_set.classes, predictions))"
   ]
  },
  {
   "cell_type": "code",
   "execution_count": 46,
   "metadata": {},
   "outputs": [],
   "source": [
    "import matplotlib.pyplot as plt\n"
   ]
  },
  {
   "cell_type": "code",
   "execution_count": null,
   "metadata": {},
   "outputs": [],
   "source": [
    "#VGG16 "
   ]
  },
  {
   "cell_type": "code",
   "execution_count": 155,
   "metadata": {},
   "outputs": [],
   "source": [
    "from tensorflow.keras.applications import VGG16"
   ]
  },
  {
   "cell_type": "code",
   "execution_count": 161,
   "metadata": {},
   "outputs": [
    {
     "name": "stdout",
     "output_type": "stream",
     "text": [
      "2.6.0-dev20210520\n"
     ]
    }
   ],
   "source": [
    "import tensorflow as tf\n",
    "print(tf.__version__)\n",
    "\n",
    "from tensorflow.keras.applications import VGG16\n",
    "from tensorflow.keras import layers, Model, Input\n",
    "\n",
    "width_shape = 224\n",
    "height_shape = 224\n",
    "\n",
    "image_input = Input(shape=(width_shape, height_shape, 3))"
   ]
  },
  {
   "cell_type": "code",
   "execution_count": 162,
   "metadata": {
    "scrolled": true
   },
   "outputs": [],
   "source": [
    "\n",
    "baseModel = VGG16(weights=\"imagenet\", include_top=False,\n",
    "                  input_tensor= image_input)\n",
    "headModel = baseModel.output\n",
    "headModel = Flatten(name=\"flatten\")(headModel)\n",
    "headModel = Dense(1024, activation='relu')(headModel)\n",
    "headModel = Dropout(0.2)(headModel)\n",
    "headModel = Dense(1, activation='sigmoid')(headModel)\n",
    "\n",
    "model = Model(inputs=baseModel.input, outputs=headModel)\n",
    "for layer in baseModel.layers:\n",
    "    layer.trainable = False"
   ]
  },
  {
   "cell_type": "code",
   "execution_count": 163,
   "metadata": {
    "scrolled": true
   },
   "outputs": [
    {
     "data": {
      "text/plain": [
       "<KerasTensor: shape=(None, 1) dtype=float32 (created by layer 'dense_35')>"
      ]
     },
     "execution_count": 163,
     "metadata": {},
     "output_type": "execute_result"
    }
   ],
   "source": [
    "headModel"
   ]
  },
  {
   "cell_type": "code",
   "execution_count": 164,
   "metadata": {},
   "outputs": [
    {
     "name": "stdout",
     "output_type": "stream",
     "text": [
      "Found 6633 images belonging to 2 classes.\n",
      "Found 715 images belonging to 2 classes.\n"
     ]
    }
   ],
   "source": [
    "training_set = image_gen.flow_from_directory(train_path, \n",
    "                                                 target_size=(224, 224),\n",
    "                                                 batch_size=batch_size, \n",
    "                                                 class_mode='binary')\n",
    "test_set = image_gen.flow_from_directory(test_path, \n",
    "                                            target_size=(224, 224),\n",
    "                                            batch_size=batch_size, \n",
    "                                            class_mode='binary')"
   ]
  },
  {
   "cell_type": "code",
   "execution_count": 165,
   "metadata": {},
   "outputs": [
    {
     "name": "stdout",
     "output_type": "stream",
     "text": [
      "{'def_front': 0, 'ok_front': 1}\n"
     ]
    }
   ],
   "source": [
    "print(training_set.class_indices)"
   ]
  },
  {
   "cell_type": "code",
   "execution_count": 166,
   "metadata": {},
   "outputs": [],
   "source": [
    "model1.compile(optimizer='adam',loss='binary_crossentropy',metrics=['accuracy'])"
   ]
  },
  {
   "cell_type": "code",
   "execution_count": 137,
   "metadata": {},
   "outputs": [
    {
     "name": "stdout",
     "output_type": "stream",
     "text": [
      "Epoch 1/5\n",
      "207/207 [==============================] - 321s 2s/step - loss: 0.3643 - accuracy: 0.9212 - val_loss: 0.1086 - val_accuracy: 0.9645\n",
      "Epoch 2/5\n",
      "207/207 [==============================] - 318s 2s/step - loss: 0.0530 - accuracy: 0.9853 - val_loss: 0.0506 - val_accuracy: 0.9858\n",
      "Epoch 3/5\n",
      "207/207 [==============================] - 318s 2s/step - loss: 0.0367 - accuracy: 0.9888 - val_loss: 0.0472 - val_accuracy: 0.9844\n",
      "Epoch 4/5\n",
      "207/207 [==============================] - 318s 2s/step - loss: 0.0378 - accuracy: 0.9885 - val_loss: 0.0664 - val_accuracy: 0.9787\n",
      "Epoch 5/5\n",
      "207/207 [==============================] - 318s 2s/step - loss: 0.0324 - accuracy: 0.9915 - val_loss: 0.0278 - val_accuracy: 0.9915\n"
     ]
    }
   ],
   "source": [
    "H = model1.fit_generator(training_set,\n",
    "                        steps_per_epoch=training_set.samples//batch_size,\n",
    "                        validation_data=test_set,\n",
    "                        epochs=5,\n",
    "                        validation_steps=test_set.samples//batch_size)"
   ]
  },
  {
   "cell_type": "code",
   "execution_count": 138,
   "metadata": {},
   "outputs": [],
   "source": [
    "losses = pd.DataFrame(model1.history.history)"
   ]
  },
  {
   "cell_type": "code",
   "execution_count": 140,
   "metadata": {},
   "outputs": [
    {
     "data": {
      "text/plain": [
       "<AxesSubplot:>"
      ]
     },
     "execution_count": 140,
     "metadata": {},
     "output_type": "execute_result"
    },
    {
     "data": {
      "image/png": "[encoded data removed]",
      "text/plain": [
       "<Figure size 432x288 with 1 Axes>"
      ]
     },
     "metadata": {
      "needs_background": "light"
     },
     "output_type": "display_data"
    }
   ],
   "source": [
    "losses[['accuracy', 'val_accuracy']].plot()"
   ]
  },
  {
   "cell_type": "code",
   "execution_count": 151,
   "metadata": {},
   "outputs": [
    {
     "data": {
      "text/plain": [
       "<AxesSubplot:>"
      ]
     },
     "execution_count": 151,
     "metadata": {},
     "output_type": "execute_result"
    },
    {
     "data": {
      "image/png": "[encoded data removed]",
      "text/plain": [
       "<Figure size 432x288 with 1 Axes>"
      ]
     },
     "metadata": {
      "needs_background": "light"
     },
     "output_type": "display_data"
    }
   ],
   "source": [
    "losses[['loss', 'val_loss']].plot()"
   ]
  },
  {
   "cell_type": "code",
   "execution_count": 152,
   "metadata": {},
   "outputs": [
    {
     "name": "stderr",
     "output_type": "stream",
     "text": [
      "C:\\Users\\jyyjc\\anaconda3\\lib\\site-packages\\tensorflow\\python\\keras\\engine\\training.py:2011: UserWarning: `Model.predict_generator` is deprecated and will be removed in a future version. Please use `Model.predict`, which supports generators.\n",
      "  warnings.warn('`Model.predict_generator` is deprecated and '\n"
     ]
    }
   ],
   "source": [
    "pred_prob1 = model1.predict_generator(test_set)"
   ]
  },
  {
   "cell_type": "code",
   "execution_count": 153,
   "metadata": {},
   "outputs": [],
   "source": [
    "predictions = pred_prob1 > 0.5"
   ]
  },
  {
   "cell_type": "code",
   "execution_count": 154,
   "metadata": {},
   "outputs": [
    {
     "name": "stdout",
     "output_type": "stream",
     "text": [
      "              precision    recall  f1-score   support\n",
      "\n",
      "           0       0.65      0.64      0.65       453\n",
      "           1       0.39      0.40      0.40       262\n",
      "\n",
      "    accuracy                           0.56       715\n",
      "   macro avg       0.52      0.52      0.52       715\n",
      "weighted avg       0.56      0.56      0.56       715\n",
      "\n"
     ]
    }
   ],
   "source": [
    "print(classification_report(test_set.classes, predictions))"
   ]
  },
  {
   "cell_type": "code",
   "execution_count": null,
   "metadata": {},
   "outputs": [],
   "source": []
  },
  {
   "cell_type": "code",
   "execution_count": null,
   "metadata": {},
   "outputs": [],
   "source": []
  },
  {
   "cell_type": "code",
   "execution_count": null,
   "metadata": {},
   "outputs": [],
   "source": []
  },
  {
   "cell_type": "code",
   "execution_count": null,
   "metadata": {},
   "outputs": [],
   "source": []
  },
  {
   "cell_type": "code",
   "execution_count": null,
   "metadata": {},
   "outputs": [],
   "source": []
  },
  {
   "cell_type": "code",
   "execution_count": null,
   "metadata": {},
   "outputs": [],
   "source": []
  },
  {
   "cell_type": "code",
   "execution_count": null,
   "metadata": {},
   "outputs": [],
   "source": []
  },
  {
   "cell_type": "code",
   "execution_count": null,
   "metadata": {},
   "outputs": [],
   "source": []
  }
 ],
 "metadata": {
  "kernelspec": {
   "display_name": "Python 3",
   "language": "python",
   "name": "python3"
  },
  "language_info": {
   "codemirror_mode": {
    "name": "ipython",
    "version": 3
   },
   "file_extension": ".py",
   "mimetype": "text/x-python",
   "name": "python",
   "nbconvert_exporter": "python",
   "pygments_lexer": "ipython3",
   "version": "3.8.5"
  }
 },
 "nbformat": 4,
 "nbformat_minor": 4
}
